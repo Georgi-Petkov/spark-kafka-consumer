{
 "cells": [
  {
   "cell_type": "code",
   "execution_count": 1,
   "metadata": {},
   "outputs": [],
   "source": [
    "from pyspark.sql import SparkSession\n",
    "\n",
    "# Spark session & context\n",
    "spark = (SparkSession\n",
    "         .builder\n",
    "         .master('local')\n",
    "         .appName('wiki-changes-dataviz')\n",
    "         .config(\"spark.sql.streaming.schemaInference\", True) #Stream dataframe infers schema\n",
    "         .getOrCreate())\n",
    "sc = spark.sparkContext"
   ]
  },
  {
   "cell_type": "code",
   "execution_count": 2,
   "metadata": {},
   "outputs": [],
   "source": [
    "# Read parquet stream\n",
    "df_stream = (\n",
    "    spark\n",
    "    .readStream\n",
    "    .format(\"parquet\")\n",
    "    #.option(\"maxFilesPerTrigger\", 1) #Read 1 file by trigger\n",
    "    .load(\"/home/jovyan/work/data-lake/wiki-changes\")\n",
    ")"
   ]
  },
  {
   "cell_type": "code",
   "execution_count": 3,
   "metadata": {},
   "outputs": [
    {
     "name": "stdout",
     "output_type": "stream",
     "text": [
      "root\n",
      " |-- event_key: string (nullable = true)\n",
      " |-- event_topic: string (nullable = true)\n",
      " |-- event_timestamp: timestamp (nullable = true)\n",
      " |-- schema: string (nullable = true)\n",
      " |-- bot: boolean (nullable = true)\n",
      " |-- comment: string (nullable = true)\n",
      " |-- id: string (nullable = true)\n",
      " |-- length_new: integer (nullable = true)\n",
      " |-- length_old: integer (nullable = true)\n",
      " |-- minor: boolean (nullable = true)\n",
      " |-- namespace: integer (nullable = true)\n",
      " |-- parsedcomment: string (nullable = true)\n",
      " |-- patrolled: boolean (nullable = true)\n",
      " |-- revision_new: integer (nullable = true)\n",
      " |-- revision_old: integer (nullable = true)\n",
      " |-- server_script_path: string (nullable = true)\n",
      " |-- server_url: string (nullable = true)\n",
      " |-- change_timestamp: timestamp (nullable = true)\n",
      " |-- title: string (nullable = true)\n",
      " |-- type: string (nullable = true)\n",
      " |-- user: string (nullable = true)\n",
      " |-- wiki: string (nullable = true)\n",
      " |-- meta_domain: string (nullable = true)\n",
      " |-- meta_dt: string (nullable = true)\n",
      " |-- meta_id: string (nullable = true)\n",
      " |-- meta_offset: long (nullable = true)\n",
      " |-- meta_partition: long (nullable = true)\n",
      " |-- meta_request_id: string (nullable = true)\n",
      " |-- meta_stream: string (nullable = true)\n",
      " |-- meta_topic: string (nullable = true)\n",
      " |-- meta_uri: string (nullable = true)\n",
      " |-- change_timestamp_date: date (nullable = true)\n",
      " |-- server_name: string (nullable = true)\n",
      "\n"
     ]
    }
   ],
   "source": [
    "df_stream.printSchema()"
   ]
  },
  {
   "cell_type": "code",
   "execution_count": 4,
   "metadata": {},
   "outputs": [],
   "source": [
    "# Create dataframe grouping by window \n",
    "from pyspark.sql.functions import window, col, current_timestamp\n",
    "\n",
    "df_count = (\n",
    "    df_stream\n",
    "    .withWatermark(\"change_timestamp\", \"10 minutes\") #Don't aggregate events arriving more than 10 minutes late\n",
    "    .withColumn(\"agg_timestamp\", current_timestamp())\n",
    "    .groupBy(\n",
    "        window(col(\"change_timestamp\"), \"10 minutes\", \"10 minutes\"), #10 minute window, updating every 10 minutes\n",
    "        col(\"user\"),\n",
    "        col(\"agg_timestamp\"))\n",
    "    .count()\n",
    "    #.orderBy(col(\"count\").desc())\n",
    ")"
   ]
  },
  {
   "cell_type": "code",
   "execution_count": 5,
   "metadata": {},
   "outputs": [
    {
     "name": "stdout",
     "output_type": "stream",
     "text": [
      "root\n",
      " |-- window: struct (nullable = false)\n",
      " |    |-- start: timestamp (nullable = true)\n",
      " |    |-- end: timestamp (nullable = true)\n",
      " |-- user: string (nullable = true)\n",
      " |-- agg_timestamp: timestamp (nullable = false)\n",
      " |-- count: long (nullable = false)\n",
      "\n"
     ]
    }
   ],
   "source": [
    "df_count.printSchema()"
   ]
  },
  {
   "cell_type": "code",
   "execution_count": 6,
   "metadata": {},
   "outputs": [],
   "source": [
    "# Create query stream with memory sink\n",
    "queryStream = (df_count\n",
    " .writeStream\n",
    " .format(\"memory\")\n",
    " .queryName(\"wiki_changes\")\n",
    " #.outputMode(\"complete\")\n",
    " #.outputMode(\"update\")\n",
    " .outputMode(\"append\")\n",
    " #.trigger(processingTime='2 seconds')\n",
    " .start())"
   ]
  },
  {
   "cell_type": "code",
   "execution_count": 13,
   "metadata": {},
   "outputs": [
    {
     "name": "stdout",
     "output_type": "stream",
     "text": [
      "Run:163\n",
      "Watermark:2020-07-25T10:36:23.000Z\n",
      "Total Rows:1278\n",
      "Updated Rows:0\n",
      "Memory used MB:0.45369499999999996\n",
      "process interrupted.\n"
     ]
    }
   ],
   "source": [
    "from time import sleep\n",
    "from IPython.display import clear_output\n",
    "\n",
    "try:\n",
    "    i=1\n",
    "    while True:\n",
    "        clear_output(wait=True)\n",
    "        print(\"Run:{}\".format(i))\n",
    "        if queryStream.lastProgress:\n",
    "            print(\"Watermark:{}\".format(queryStream.lastProgress[\"eventTime\"][\"watermark\"]))\n",
    "            print(\"Total Rows:{}\".format(queryStream.lastProgress[\"stateOperators\"][0][\"numRowsTotal\"]))\n",
    "            print(\"Updated Rows:{}\".format(queryStream.lastProgress[\"stateOperators\"][0][\"numRowsUpdated\"]))\n",
    "            print(\"Memory used MB:{}\".format((queryStream.lastProgress[\"stateOperators\"][0][\"memoryUsedBytes\"]) * 0.000001))\n",
    "\n",
    "        \n",
    "        #df = spark.sql(\n",
    "        #        \"\"\"\n",
    "        #            select\n",
    "        #                *\n",
    "        #            from\n",
    "        #                (\n",
    "        #                    select\n",
    "        #                        agg_timestamp\n",
    "        #                        ,window.start\n",
    "        #                        ,window.end\n",
    "        #                        ,user\n",
    "        #                        ,count\n",
    "        #                        ,row_number() over (partition by user order by agg_timestamp desc) rn\n",
    "        #                    from\n",
    "        #                        wiki_changes\n",
    "        #                    where\n",
    "        #                        window.start = (select max(window.start) from wiki_changes)\n",
    "        #                ) a\n",
    "        #            where\n",
    "        #                rn = 1\n",
    "        #            order by\n",
    "        #                count desc\n",
    "        #           limit 10\n",
    "        #        \"\"\"\n",
    "        #).toPandas()\n",
    "        #df = spark.sql(\"select window.start, window.end, user, count from wiki_changes order by window.start desc limit 10\").toPandas()\n",
    "        #df = spark.sql(\"select window.start, window.end, count(1) from wiki_changes group by window.start, window.end order by window.start desc\").toPandas()\n",
    "        df = spark.sql(\"select * from wiki_changes where user = 'SuccuBot' order by agg_timestamp desc, window.start desc\").toPandas()\n",
    "        display(df)\n",
    "    \n",
    "        sleep(10)\n",
    "        i=i+1\n",
    "except KeyboardInterrupt:\n",
    "    print(\"process interrupted.\")"
   ]
  },
  {
   "cell_type": "code",
   "execution_count": 17,
   "metadata": {
    "scrolled": false
   },
   "outputs": [
    {
     "name": "stdout",
     "output_type": "stream",
     "text": [
      "**********************\n",
      "General Info\n",
      "**********************\n",
      "Run:1\n",
      "**********************\n",
      "Graph\n",
      "**********************\n",
      "**********************\n",
      "Table\n",
      "**********************\n"
     ]
    },
    {
     "data": {
      "text/html": [
       "<div>\n",
       "<style scoped>\n",
       "    .dataframe tbody tr th:only-of-type {\n",
       "        vertical-align: middle;\n",
       "    }\n",
       "\n",
       "    .dataframe tbody tr th {\n",
       "        vertical-align: top;\n",
       "    }\n",
       "\n",
       "    .dataframe thead th {\n",
       "        text-align: right;\n",
       "    }\n",
       "</style>\n",
       "<table border=\"1\" class=\"dataframe\">\n",
       "  <thead>\n",
       "    <tr style=\"text-align: right;\">\n",
       "      <th></th>\n",
       "      <th>start</th>\n",
       "      <th>end</th>\n",
       "      <th>user</th>\n",
       "      <th>count</th>\n",
       "    </tr>\n",
       "  </thead>\n",
       "  <tbody>\n",
       "  </tbody>\n",
       "</table>\n",
       "</div>"
      ],
      "text/plain": [
       "Empty DataFrame\n",
       "Columns: [start, end, user, count]\n",
       "Index: []"
      ]
     },
     "metadata": {},
     "output_type": "display_data"
    },
    {
     "name": "stdout",
     "output_type": "stream",
     "text": [
      "**********************\n",
      "Table 2\n",
      "**********************\n",
      "process interrupted.\n"
     ]
    },
    {
     "data": {
      "text/plain": [
       "<Figure size 576x432 with 0 Axes>"
      ]
     },
     "metadata": {},
     "output_type": "display_data"
    }
   ],
   "source": [
    "from time import sleep\n",
    "from IPython.display import clear_output\n",
    "import seaborn as sns\n",
    "import matplotlib\n",
    "import matplotlib.pyplot as plt\n",
    "\n",
    "matplotlib.rc('font', family='DejaVu Sans')\n",
    "sns.set(style=\"whitegrid\")\n",
    "\n",
    "\n",
    "try:\n",
    "    i=1\n",
    "    while True:\n",
    "        clear_output(wait=True)\n",
    "        print(\"**********************\")\n",
    "        print(\"General Info\")\n",
    "        print(\"**********************\")\n",
    "        print(\"Run:{}\".format(i))\n",
    "        if (len(queryStream.recentProgress) > 0):\n",
    "            print(\"Stream timestamp:{}\".format(queryStream.lastProgress[\"timestamp\"]))\n",
    "            print(\"Watermark:{}\".format(queryStream.lastProgress[\"eventTime\"][\"watermark\"]))\n",
    "            print(\"Total Rows:{}\".format(queryStream.lastProgress[\"stateOperators\"][0][\"numRowsTotal\"]))\n",
    "            print(\"Updated Rows:{}\".format(queryStream.lastProgress[\"stateOperators\"][0][\"numRowsUpdated\"]))\n",
    "            print(\"Memory used MB:{}\".format((queryStream.lastProgress[\"stateOperators\"][0][\"memoryUsedBytes\"]) * 0.000001))\n",
    "            \n",
    "        df = spark.sql(\n",
    "                \"\"\"\n",
    "                    select\n",
    "                        window.start\n",
    "                        ,window.end\n",
    "                        ,user\n",
    "                        ,count\n",
    "                    from\n",
    "                        wiki_changes\n",
    "                    where\n",
    "                        window.start = (select max(window.start) from wiki_changes)\n",
    "                    order by\n",
    "                        count desc\n",
    "                    limit 10\n",
    "                \"\"\"\n",
    "        ).toPandas()\n",
    "\n",
    "        # Plot the total crashes\n",
    "        sns.set_color_codes(\"muted\")\n",
    "\n",
    "        # Initialize the matplotlib figure\n",
    "        plt.figure(figsize=(8,6))\n",
    "\n",
    "        print(\"**********************\")\n",
    "        print(\"Graph\")\n",
    "        print(\"**********************\")\n",
    "        try:\n",
    "            # Barplot\n",
    "            sns.barplot(x=\"count\", y=\"user\", data=df)\n",
    "\n",
    "            # Show barplot\n",
    "            plt.show()\n",
    "        except ValueError:\n",
    "            # If Dataframe is empty, pass\n",
    "            pass\n",
    "\n",
    "        print(\"**********************\")\n",
    "        print(\"Table\")\n",
    "        print(\"**********************\")\n",
    "        display(df)\n",
    "        \n",
    "        print(\"**********************\")\n",
    "        print(\"Table 2\")\n",
    "        print(\"**********************\")\n",
    "        df1 = spark.sql(\n",
    "                \"\"\"\n",
    "                    select\n",
    "                        window.start\n",
    "                        ,window.end\n",
    "                        ,sum(count) sum_count\n",
    "                        ,count(1) qty\n",
    "                    from\n",
    "                        wiki_changes\n",
    "                    group by\n",
    "                        window.start\n",
    "                        ,window.end\n",
    "                    order by\n",
    "                        window.start desc\n",
    "                \"\"\"\n",
    "        ).toPandas()\n",
    "        \n",
    "        display(df1)\n",
    "        \n",
    "        sleep(10)\n",
    "        i=i+1\n",
    "except KeyboardInterrupt:\n",
    "    print(\"process interrupted.\")"
   ]
  },
  {
   "cell_type": "code",
   "execution_count": 9,
   "metadata": {},
   "outputs": [
    {
     "name": "stdout",
     "output_type": "stream",
     "text": [
      "ID:b12a5d5b-1bab-41ec-bf12-ef8d2939e824 | NAME:wiki_changes\n"
     ]
    }
   ],
   "source": [
    "# Check active streams\n",
    "for s in spark.streams.active:\n",
    "    print(\"ID:{} | NAME:{}\".format(s.id, s.name))"
   ]
  },
  {
   "cell_type": "code",
   "execution_count": 10,
   "metadata": {},
   "outputs": [],
   "source": [
    "# Stop stream\n",
    "queryStream.stop()"
   ]
  },
  {
   "cell_type": "code",
   "execution_count": null,
   "metadata": {},
   "outputs": [],
   "source": []
  }
 ],
 "metadata": {
  "kernelspec": {
   "display_name": "Python 3",
   "language": "python",
   "name": "python3"
  },
  "language_info": {
   "codemirror_mode": {
    "name": "ipython",
    "version": 3
   },
   "file_extension": ".py",
   "mimetype": "text/x-python",
   "name": "python",
   "nbconvert_exporter": "python",
   "pygments_lexer": "ipython3",
   "version": "3.7.6"
  }
 },
 "nbformat": 4,
 "nbformat_minor": 4
}
